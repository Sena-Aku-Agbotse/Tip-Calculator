{
 "cells": [
  {
   "cell_type": "markdown",
   "id": "db826900-eb02-4780-b2f1-1ce3d7f21837",
   "metadata": {},
   "source": [
    "Tip Calculator"
   ]
  },
  {
   "cell_type": "code",
   "execution_count": 13,
   "id": "eaec50b8-3d6e-4328-a937-ce2e65964b81",
   "metadata": {},
   "outputs": [
    {
     "name": "stdin",
     "output_type": "stream",
     "text": [
      "enter the charge for food: $ 50\n"
     ]
    },
    {
     "name": "stdout",
     "output_type": "stream",
     "text": [
      "Tip(18%) = $9.00\n",
      "Sales tax(7%) = $3.50\n",
      "Grand Total = $62.50\n"
     ]
    }
   ],
   "source": [
    "food_cost = float(input('enter the charge for food: $'))\n",
    "\n",
    "''' we created variables tip_percent and sales_tax_percent and then we went ahead\n",
    "    to assign them their appropriate values\n",
    "'''\n",
    "\n",
    "tip_percent = 18/100\n",
    "sales_tax_percent = 7/100\n",
    "\n",
    "''' we then created variables tip, sales_tax and grand_total and assigned them their\n",
    "    appropriate formulae to compute them\n",
    "'''\n",
    "\n",
    "tip = food_cost * tip_percent\n",
    "sales_tax = food_cost * sales_tax_percent\n",
    "grand_total = food_cost + tip + sales_tax\n",
    "\n",
    "''' now according to the way the output is expected to be formatted and returned, we used\n",
    "    the newline character (\\n) to help separate the output into lines and also format\n",
    "    the values returned into 2 decimal places using the ':.2f' in the f-string\n",
    "'''\n",
    "output = f'Tip(18%) = ${tip:.2f}\\nSales tax(7%) = ${sales_tax:.2f}\\nGrand Total = ${grand_total:.2f}'\n",
    "\n",
    "print(output)\n",
    "\n",
    "      \n"
   ]
  },
  {
   "cell_type": "code",
   "execution_count": null,
   "id": "248cc91b-b1ff-4c04-885f-91208e34c837",
   "metadata": {},
   "outputs": [],
   "source": []
  }
 ],
 "metadata": {
  "kernelspec": {
   "display_name": "Python 3 (ipykernel)",
   "language": "python",
   "name": "python3"
  },
  "language_info": {
   "codemirror_mode": {
    "name": "ipython",
    "version": 3
   },
   "file_extension": ".py",
   "mimetype": "text/x-python",
   "name": "python",
   "nbconvert_exporter": "python",
   "pygments_lexer": "ipython3",
   "version": "3.12.1"
  }
 },
 "nbformat": 4,
 "nbformat_minor": 5
}
